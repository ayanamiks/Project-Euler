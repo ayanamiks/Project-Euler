{
 "cells": [
  {
   "cell_type": "code",
   "execution_count": 15,
   "metadata": {},
   "outputs": [
    {
     "name": "stdout",
     "output_type": "stream",
     "text": [
      "234168\n"
     ]
    }
   ],
   "source": [
    " # Решение первой задачи \n",
    "b = 0\n",
    "for i in range(1001):\n",
    "\tif i % 3 == 0 or i % 5 == 0:\n",
    "\t\tb += i\n",
    "print(b)"
   ]
  },
  {
   "cell_type": "code",
   "execution_count": 18,
   "metadata": {},
   "outputs": [
    {
     "name": "stdout",
     "output_type": "stream",
     "text": [
      "4613732\n"
     ]
    }
   ],
   "source": [
    " # Решение второй задачи \n",
    "\n",
    "y = [1,2]\n",
    "while y[len(y) - 1] + y[len(y) - 2] < 4000000:\n",
    "\ty.append(y[len(y) - 1] + y[len(y) - 2])\n",
    "\n",
    "i = 1\n",
    "b = 0\n",
    "while len(y)-i != 0:\n",
    "\tif y[len(y)-i] % 2 == 0:\n",
    "\t\tb += y[len(y)-i]\n",
    "\ti +=1\n",
    "print(b)\n"
   ]
  },
  {
   "cell_type": "code",
   "execution_count": null,
   "metadata": {},
   "outputs": [],
   "source": [
    "# решение третьей задачи\n",
    "\n",
    "x = 600851475143\n",
    "i = 2\n",
    "b = []\n",
    "\n",
    "while i < 600851475143:\n",
    "\tif int(x / i) == float(x / i):\n",
    "\t\tx = x / i\n",
    "\t\tif x == 1:\n",
    "\t\t\tprint(int(i))\n",
    "\telse:\n",
    "\t\ti +=1"
   ]
  },
  {
   "cell_type": "code",
   "execution_count": 20,
   "metadata": {},
   "outputs": [
    {
     "name": "stdout",
     "output_type": "stream",
     "text": [
      "906609\n"
     ]
    }
   ],
   "source": [
    "# решение четвертой задачи\n",
    "\n",
    "q = []\n",
    "\n",
    "for i in range(100, 1000):\n",
    "\tb = 100\n",
    "\twhile b <= 1000:\t\n",
    "\t\tvariable = str(i * b)\n",
    "\t\tif variable == variable[::-1]:\n",
    "\t\t\tq.append(int(variable))\n",
    "\t\t\tb +=1\n",
    "\t\telse:\n",
    "\t\t\tb +=1\t\n",
    "\n",
    "print(max(q))"
   ]
  },
  {
   "cell_type": "code",
   "execution_count": 21,
   "metadata": {},
   "outputs": [
    {
     "name": "stdout",
     "output_type": "stream",
     "text": [
      "906609\n"
     ]
    }
   ],
   "source": [
    "# второе решение четвертой задачи\n",
    "\n",
    "q = []\n",
    "\n",
    "for i in range(100, 1000):\n",
    "\tb = 100\n",
    "\twhile b <= 1000:\t\n",
    "\t\tqwe = str(i * b)\n",
    "\t\tx = len(qwe)\n",
    "\t\ta = 0\n",
    "\t\tx = x - 1\n",
    "\t\tk = 0\n",
    "\t\twhile x - a >= a:\n",
    "\t\t\tif qwe[x - a] == qwe[a]:\n",
    "\t\t\t\ta += 1\t\n",
    "\t\t\telse:\n",
    "\t\t\t\tk = 1\n",
    "\t\t\t\tbreak\n",
    "\t\tif b == 999:\n",
    "\t\t\tbreak\n",
    "\t\telif k == 1:\n",
    "\t\t\tb +=1\t\n",
    "\t\telse:\n",
    "\t\t\tc = i * b\n",
    "\t\t\tq.append(c)\n",
    "\t\t\tb +=1\n",
    "print(max(q))\t"
   ]
  },
  {
   "cell_type": "code",
   "execution_count": null,
   "metadata": {
    "collapsed": true
   },
   "outputs": [],
   "source": [
    "# решение пятой задачи\n",
    "\n",
    "z = []\n",
    "for i in range(1,22):\n",
    "\tz.append(i)\n",
    "\n",
    "i = 0\n",
    "x = 2519\n",
    "\n",
    "while i != 19:\n",
    "\tif x % z[i] == 0:\n",
    "\t\ti+=1\n",
    "\t\tif i == 19:\n",
    "\t\t\tprint(x)\n",
    "\telse:\n",
    "\t\tx+=1\n",
    "\t\ti = 0\t"
   ]
  },
  {
   "cell_type": "code",
   "execution_count": null,
   "metadata": {
    "collapsed": true
   },
   "outputs": [],
   "source": [
    "# второе решение пятой задачи\n",
    "\n",
    "a = []\n",
    "for i in range(2,21):\n",
    "\ta.append(i)\n",
    "b = []\n",
    "c = 2\n",
    "\n",
    "while sum(a[::]) != 19:\n",
    "\tb.append(c)\n",
    "\tfor i in range(19):\n",
    "\t\tif a[i] % c == 0:\n",
    "\t\t\td = a[i] / c\n",
    "\t\t\tdel a[i]\n",
    "\t\t\ta.insert(i, (d))\n",
    "\t\t\t\n",
    "\t\telse:\n",
    "\t\t\td = a[i]\n",
    "\t\t\tdel a[i]\n",
    "\t\t\ta.insert(i, d)\n",
    "\t\t\t\n",
    "\tvariable_one = list(set(a))\n",
    "\tif len(variable_one) == 1:\n",
    "\t\tbreak\n",
    "\telse:\t\n",
    "\t\tvariable_two = (variable_one)[1]\n",
    "\t\tc = variable_two\n",
    "\n",
    "i = 1 \n",
    "for step in b: \n",
    "    i *= step \n",
    " \n",
    "print(int(i)) "
   ]
  }
 ],
 "metadata": {
  "kernelspec": {
   "display_name": "Python 3",
   "language": "python",
   "name": "python3"
  },
  "language_info": {
   "codemirror_mode": {
    "name": "ipython",
    "version": 3
   },
   "file_extension": ".py",
   "mimetype": "text/x-python",
   "name": "python",
   "nbconvert_exporter": "python",
   "pygments_lexer": "ipython3",
   "version": "3.6.3"
  }
 },
 "nbformat": 4,
 "nbformat_minor": 2
}
